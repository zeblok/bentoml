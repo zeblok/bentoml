{
 "metadata": {
  "language_info": {
   "codemirror_mode": {
    "name": "ipython",
    "version": 3
   },
   "file_extension": ".py",
   "mimetype": "text/x-python",
   "name": "python",
   "nbconvert_exporter": "python",
   "pygments_lexer": "ipython3",
   "version": 3
  },
  "orig_nbformat": 2
 },
 "nbformat": 4,
 "nbformat_minor": 2,
 "cells": [
  {
   "cell_type": "code",
   "execution_count": null,
   "metadata": {},
   "outputs": [],
   "source": [
    "import requests\n",
    "url = 'https://onnxresnet50-20210601124825-a5fdc1-admin.zeblok.com/predict'\n",
    "files = {'media': open('dog.png', 'rb')}\n",
    "data = requests.post(url, files=files)\n",
    "print(data.json())"
   ]
  }
 ]
}