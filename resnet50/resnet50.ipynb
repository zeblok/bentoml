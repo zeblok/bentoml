{
 "cells": [
  {
   "cell_type": "code",
   "execution_count": 13,
   "id": "0a80f893-ac06-4ead-9821-e4ce0867d02c",
   "metadata": {},
   "outputs": [],
   "source": [
    "import tensorflow as tf\n",
    "import tf2onnx\n",
    "from tensorflow.keras.applications.resnet50 import ResNet50\n",
    "import bentoml\n",
    "model = ResNet50(weights='imagenet')"
   ]
  },
  {
   "cell_type": "code",
   "execution_count": 14,
   "id": "6ca4a1e1-40e6-42fb-84e3-75192c3757b3",
   "metadata": {},
   "outputs": [
    {
     "name": "stderr",
     "output_type": "stream",
     "text": [
      "2022-08-26 13:47:40.537114: I tensorflow/core/grappler/devices.cc:66] Number of eligible GPUs (core count >= 8, compute capability >= 0.0): 0\n",
      "2022-08-26 13:47:40.537367: I tensorflow/core/grappler/clusters/single_machine.cc:358] Starting new session\n",
      "2022-08-26 13:47:43.697234: I tensorflow/core/grappler/devices.cc:66] Number of eligible GPUs (core count >= 8, compute capability >= 0.0): 0\n",
      "2022-08-26 13:47:43.697506: I tensorflow/core/grappler/clusters/single_machine.cc:358] Starting new session\n"
     ]
    }
   ],
   "source": [
    "spec = (tf.TensorSpec((None, 224, 224, 3), tf.float32, name=\"input\"),)\n",
    "onnx_model, _ = tf2onnx.convert.from_keras(model, input_signature=spec, opset=13)"
   ]
  },
  {
   "cell_type": "code",
   "execution_count": 15,
   "id": "1ee53ffe-2008-468d-8031-bc2a425f459e",
   "metadata": {},
   "outputs": [
    {
     "data": {
      "text/plain": [
       "Model(tag=\"onnx_resnet50:wgoyv7rfiwwucntc\", path=\"/home/admin/bentoml/models/onnx_resnet50/wgoyv7rfiwwucntc/\")"
      ]
     },
     "execution_count": 15,
     "metadata": {},
     "output_type": "execute_result"
    }
   ],
   "source": [
    "signatures = {\n",
    "    \"run\": {\"batchable\": True},\n",
    "}\n",
    "bentoml.onnx.save_model(\"onnx_resnet50\", onnx_model, signatures=signatures)"
   ]
  },
  {
   "cell_type": "code",
   "execution_count": 16,
   "id": "13100396-da97-4d10-97b6-f5b3499ca25c",
   "metadata": {},
   "outputs": [
    {
     "name": "stdout",
     "output_type": "stream",
     "text": [
      "Overwriting service.py\n"
     ]
    }
   ],
   "source": [
    "%%writefile service.py\n",
    "import bentoml\n",
    "\n",
    "import numpy as np\n",
    "from bentoml.io import Image\n",
    "from bentoml.io import JSON\n",
    "\n",
    "runner = bentoml.onnx.get(\"onnx_resnet50:latest\").to_runner()\n",
    "\n",
    "svc = bentoml.Service(\"onnx_resnet50\", runners=[runner])\n",
    "\n",
    "@svc.api(input=Image(), output=JSON())\n",
    "def predict(img):\n",
    "\n",
    "    from tensorflow.keras.applications.resnet50 import preprocess_input, decode_predictions\n",
    "\n",
    "    img = img.resize((224, 224))\n",
    "    arr = np.array(img)\n",
    "    arr = np.expand_dims(arr, axis=0)\n",
    "    arr = preprocess_input(arr)\n",
    "    preds = runner.run.run(arr)\n",
    "    return decode_predictions(preds, top=1)[0]"
   ]
  },
  {
   "cell_type": "code",
   "execution_count": 17,
   "id": "d8f5d648-2fab-4e2c-8d5f-4e59cd58014e",
   "metadata": {},
   "outputs": [
    {
     "name": "stdout",
     "output_type": "stream",
     "text": [
      "Building BentoML service \"onnx_resnet50:wjyjlnrfiwzr4ntc\" from build context \"/home/admin/notebooks/bentoml/resnet50\"\n",
      "Packing model \"onnx_resnet50:wgoyv7rfiwwucntc\"\n",
      "\n",
      "██████╗░███████╗███╗░░██╗████████╗░█████╗░███╗░░░███╗██╗░░░░░\n",
      "██╔══██╗██╔════╝████╗░██║╚══██╔══╝██╔══██╗████╗░████║██║░░░░░\n",
      "██████╦╝█████╗░░██╔██╗██║░░░██║░░░██║░░██║██╔████╔██║██║░░░░░\n",
      "██╔══██╗██╔══╝░░██║╚████║░░░██║░░░██║░░██║██║╚██╔╝██║██║░░░░░\n",
      "██████╦╝███████╗██║░╚███║░░░██║░░░╚█████╔╝██║░╚═╝░██║███████╗\n",
      "╚═════╝░╚══════╝╚═╝░░╚══╝░░░╚═╝░░░░╚════╝░╚═╝░░░░░╚═╝╚══════╝\n",
      "\n",
      "Successfully built Bento(tag=\"onnx_resnet50:wjyjlnrfiwzr4ntc\")\n"
     ]
    }
   ],
   "source": [
    "!bentoml build"
   ]
  },
  {
   "cell_type": "code",
   "execution_count": null,
   "id": "89b77fe6-5fc8-4c38-8417-de3ce1878842",
   "metadata": {},
   "outputs": [],
   "source": []
  }
 ],
 "metadata": {
  "kernelspec": {
   "display_name": "Python 3 (ipykernel)",
   "language": "python",
   "name": "python3"
  },
  "language_info": {
   "codemirror_mode": {
    "name": "ipython",
    "version": 3
   },
   "file_extension": ".py",
   "mimetype": "text/x-python",
   "name": "python",
   "nbconvert_exporter": "python",
   "pygments_lexer": "ipython3",
   "version": "3.9.13"
  }
 },
 "nbformat": 4,
 "nbformat_minor": 5
}
